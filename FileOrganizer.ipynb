{
 "cells": [
  {
   "cell_type": "code",
   "execution_count": 1,
   "metadata": {},
   "outputs": [],
   "source": [
    "import os   \n",
    "from pathlib import Path"
   ]
  },
  {
   "cell_type": "code",
   "execution_count": 2,
   "metadata": {},
   "outputs": [],
   "source": [
    "# path to be organized\n",
    "path = Path.home()\n",
    "path = os.path.join(path, \"OneDrive\")\n",
    "\n",
    "# mapping folder names to file extensions\n",
    "FOLDERS = {\n",
    "    \"PDFs\": [\".pdf\"],\n",
    "    \"Images\": [\".jpg\", \".jpeg\", \".png\", \".gif\"],\n",
    "    \"Excels\": [\".xls\", \".xlsx\", \".csv\"],\n",
    "    \"Powerpoints\": [\".ppt\", \".pptx\"],\n",
    "    \"WordDocs\" : [\".doc\", \".docx\", \".odt\"],\n",
    "    \"TextFiles\" : [\".txt\"],\n",
    "}\n",
    "\n"
   ]
  },
  {
   "cell_type": "code",
   "execution_count": 7,
   "metadata": {},
   "outputs": [],
   "source": [
    "def organize(path):\n",
    "    for entry in os.scandir(path):\n",
    "        if entry.is_dir():\n",
    "            if entry.path.endswith(\"/documents\"):\n",
    "                continue\n",
    "            organize(entry.path)\n",
    "        file_path = Path(entry)\n",
    "        file_extension = file_path.suffix.lower()\n",
    "        for folder_name, extensions in FOLDERS.items():\n",
    "            if file_extension in extensions:\n",
    "                folder_path = os.path.join(path, folder_name)\n",
    "                if not os.path.exists(folder_path):\n",
    "                    os.mkdir(folder_path)\n",
    "                file_path.rename(os.path.join(folder_path, file_path.name))"
   ]
  },
  {
   "cell_type": "code",
   "execution_count": 8,
   "metadata": {},
   "outputs": [],
   "source": [
    "organize(path)"
   ]
  }
 ],
 "metadata": {
  "kernelspec": {
   "display_name": "Python 3",
   "language": "python",
   "name": "python3"
  },
  "language_info": {
   "codemirror_mode": {
    "name": "ipython",
    "version": 3
   },
   "file_extension": ".py",
   "mimetype": "text/x-python",
   "name": "python",
   "nbconvert_exporter": "python",
   "pygments_lexer": "ipython3",
   "version": "3.10.11"
  },
  "orig_nbformat": 4
 },
 "nbformat": 4,
 "nbformat_minor": 2
}
